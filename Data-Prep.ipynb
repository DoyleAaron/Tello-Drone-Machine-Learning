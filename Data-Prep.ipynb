{
 "cells": [
  {
   "cell_type": "markdown",
   "metadata": {},
   "source": [
    "## Data Prep\n",
    "- The aim for this is to organise and combine our data.\n",
    "- ChatGPT generated this code to sort this for us."
   ]
  },
  {
   "cell_type": "code",
   "execution_count": 6,
   "metadata": {},
   "outputs": [],
   "source": [
    "import os\n",
    "import shutil\n",
    "\n",
    "# Paths to original datasets\n",
    "fnt_root = \"Letters/Font-Letter/Fnt/\"\n",
    "hnd_root = \"Letters/Handwritten-Letter/Hnd/Img/\"\n",
    "\n",
    "# Output path\n",
    "out_path = \"combined_dataset\"\n",
    "os.makedirs(out_path, exist_ok=True)\n",
    "\n",
    "# Helper: Map class number to letter (A–Z and a–z)\n",
    "def class_id_to_letter(class_id):\n",
    "    class_id = int(class_id)\n",
    "    if 11 <= class_id <= 36:\n",
    "        return chr(65 + (class_id - 11))  # A–Z\n",
    "    elif 37 <= class_id <= 62:\n",
    "        return chr(97 + (class_id - 37))  # a–z\n",
    "    else:\n",
    "        return None\n",
    "\n",
    "# ---------- COMBINE Fnt ----------\n",
    "for sample_dir in os.listdir(fnt_root):\n",
    "    sample_path = os.path.join(fnt_root, sample_dir)\n",
    "    if os.path.isdir(sample_path) and sample_dir.startswith(\"Sample\"):\n",
    "        class_id = sample_dir.replace(\"Sample\", \"\")\n",
    "        label = class_id_to_letter(class_id)\n",
    "        if label is None:\n",
    "            continue\n",
    "\n",
    "        label_dir = os.path.join(out_path, label)\n",
    "        os.makedirs(label_dir, exist_ok=True)\n",
    "\n",
    "        for img_name in os.listdir(sample_path):\n",
    "            if img_name.endswith('.png'):\n",
    "                src = os.path.join(sample_path, img_name)\n",
    "                dst = os.path.join(label_dir, f\"fnt_{img_name}\")\n",
    "                shutil.copy(src, dst)\n",
    "\n",
    "# ---------- COMBINE Hnd ----------\n",
    "for sample_dir in os.listdir(hnd_root):\n",
    "    sample_path = os.path.join(hnd_root, sample_dir)\n",
    "    if os.path.isdir(sample_path) and sample_dir.startswith(\"Sample\"):\n",
    "        class_id = sample_dir.replace(\"Sample\", \"\")\n",
    "        label = class_id_to_letter(class_id)\n",
    "        if label is None:\n",
    "            continue\n",
    "\n",
    "        label_dir = os.path.join(out_path, label)\n",
    "        os.makedirs(label_dir, exist_ok=True)\n",
    "\n",
    "        for img_name in os.listdir(sample_path):\n",
    "            if img_name.endswith('.png'):\n",
    "                src = os.path.join(sample_path, img_name)\n",
    "                dst = os.path.join(label_dir, f\"hnd_{img_name}\")\n",
    "                shutil.copy(src, dst)\n"
   ]
  }
 ],
 "metadata": {
  "kernelspec": {
   "display_name": "Python 3",
   "language": "python",
   "name": "python3"
  },
  "language_info": {
   "codemirror_mode": {
    "name": "ipython",
    "version": 3
   },
   "file_extension": ".py",
   "mimetype": "text/x-python",
   "name": "python",
   "nbconvert_exporter": "python",
   "pygments_lexer": "ipython3",
   "version": "3.11.6"
  }
 },
 "nbformat": 4,
 "nbformat_minor": 2
}
